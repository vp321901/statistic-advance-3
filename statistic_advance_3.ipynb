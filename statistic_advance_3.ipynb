{
  "nbformat": 4,
  "nbformat_minor": 0,
  "metadata": {
    "colab": {
      "provenance": []
    },
    "kernelspec": {
      "name": "python3",
      "display_name": "Python 3"
    },
    "language_info": {
      "name": "python"
    }
  },
  "cells": [
    {
      "cell_type": "code",
      "execution_count": 3,
      "metadata": {
        "colab": {
          "base_uri": "https://localhost:8080/",
          "height": 53
        },
        "id": "AtRhdeYY9MYM",
        "outputId": "c27ba2df-01c5-4d88-e0fc-550450cb3d10"
      },
      "outputs": [
        {
          "output_type": "execute_result",
          "data": {
            "text/plain": [
              "'Estimation statistics is a method used to infer population parameters based on sample data. Two key concepts are:\\n\\n1---Point Estimate: A single value estimate of a population parameter, like the sample mean.\\n2---Interval Estimate: A range of values within which the parameter is expected to lie, often represented by a confidence interval.'"
            ],
            "application/vnd.google.colaboratory.intrinsic+json": {
              "type": "string"
            }
          },
          "metadata": {},
          "execution_count": 3
        }
      ],
      "source": [
        "#answer:-1\n",
        "\"\"\"Estimation statistics is a method used to infer population parameters based on sample data.\n",
        "   Two key concepts are:\n",
        "\n",
        "1---Point Estimate: A single value estimate of a population parameter, like the sample mean.\n",
        "2---Interval Estimate: A range of values within which the parameter is expected to lie, often represented by a confidence interval.\"\"\""
      ]
    },
    {
      "cell_type": "code",
      "source": [
        "#answer:-2\n",
        "def estimate_population_mean(sample_mean, std_dev, sample_size):\n",
        "    return sample_mean\n",
        "\n",
        "# Example usage:\n",
        "mean = estimate_population_mean(500, 50, 50)\n",
        "print(mean)\n"
      ],
      "metadata": {
        "colab": {
          "base_uri": "https://localhost:8080/"
        },
        "id": "gHdfu2Cm9UBk",
        "outputId": "17a56d2a-054d-43dd-c061-9967917570db"
      },
      "execution_count": 4,
      "outputs": [
        {
          "output_type": "stream",
          "name": "stdout",
          "text": [
            "500\n"
          ]
        }
      ]
    },
    {
      "cell_type": "code",
      "source": [
        "#answer:-3\n",
        "\"\"\"Hypothesis testing is a method of making inferences about population parameters by testing sample data against a null hypothesis.\n",
        "  It's used to determine if there's enough evidence to support a specific claim or belief about a population.\n",
        " It's important because it helps validate scientific research, compare groups, and draw conclusions with a known level of confidence.\"\"\""
      ],
      "metadata": {
        "colab": {
          "base_uri": "https://localhost:8080/",
          "height": 70
        },
        "id": "Qpq9E4Yz9pP7",
        "outputId": "7e9ad786-c503-4359-9cfe-a063de1fc6df"
      },
      "execution_count": 5,
      "outputs": [
        {
          "output_type": "execute_result",
          "data": {
            "text/plain": [
              "\"Hypothesis testing is a method of making inferences about population parameters by testing sample data against a null hypothesis. \\n  It's used to determine if there's enough evidence to support a specific claim or belief about a population.\\n It's important because it helps validate scientific research, compare groups, and draw conclusions with a known level of confidence.\""
            ],
            "application/vnd.google.colaboratory.intrinsic+json": {
              "type": "string"
            }
          },
          "metadata": {},
          "execution_count": 5
        }
      ]
    },
    {
      "cell_type": "code",
      "source": [
        "#Answer:-4\n",
        "\"\"\"Hypothesis:\n",
        "\n",
        "Null Hypothesis (H₀): The average weight of male college students is equal to the average weight of female college students.\n",
        "Alternative Hypothesis (H₁): The average weight of male college students is greater than the average weight of female college students.\"\"\""
      ],
      "metadata": {
        "colab": {
          "base_uri": "https://localhost:8080/",
          "height": 53
        },
        "id": "KcoiNEaK911B",
        "outputId": "7833e62e-1ddf-4ce9-f9c3-ba37757c1873"
      },
      "execution_count": 6,
      "outputs": [
        {
          "output_type": "execute_result",
          "data": {
            "text/plain": [
              "'Hypothesis:\\n\\nNull Hypothesis (H₀): The average weight of male college students is equal to the average weight of female college students.\\nAlternative Hypothesis (H₁): The average weight of male college students is greater than the average weight of female college students.'"
            ],
            "application/vnd.google.colaboratory.intrinsic+json": {
              "type": "string"
            }
          },
          "metadata": {},
          "execution_count": 6
        }
      ]
    },
    {
      "cell_type": "code",
      "source": [
        "#answer:-5\n",
        "import scipy.stats as stats\n",
        "\n",
        "def hypothesis_test_two_means(sample1, sample2):\n",
        "    t_stat, p_value = stats.ttest_ind(sample1, sample2)\n",
        "    return t_stat, p_value\n",
        "\n",
        "# Example usage with two sample datasets\n",
        "sample1 = [80, 85, 78, 90, 88]\n",
        "sample2 = [70, 75, 72, 68, 73]\n",
        "t_stat, p_value = hypothesis_test_two_means(sample1, sample2)\n",
        "print(f\"T-Statistic: {t_stat}, P-Value: {p_value}\")\n"
      ],
      "metadata": {
        "colab": {
          "base_uri": "https://localhost:8080/"
        },
        "id": "6x5eYkst99G4",
        "outputId": "ae6a7e93-bb1b-4530-a3a9-4ef9024a81fa"
      },
      "execution_count": 7,
      "outputs": [
        {
          "output_type": "stream",
          "name": "stdout",
          "text": [
            "T-Statistic: 4.867804678503415, P-Value: 0.0012434286749907388\n"
          ]
        }
      ]
    },
    {
      "cell_type": "code",
      "source": [
        "#Answer 6:\n",
        "\n",
        "\"\"\"Null Hypothesis (H₀): A statement that there is no effect or no difference (e.g., the means of two groups are equal).\n",
        "Alternative Hypothesis (H₁): A statement that contradicts the null hypothesis (e.g., the means are different).\n",
        "Examples:\n",
        "\n",
        "H₀: The new drug has no effect. H₁: The new drug has a positive effect.\"\"\""
      ],
      "metadata": {
        "colab": {
          "base_uri": "https://localhost:8080/",
          "height": 53
        },
        "id": "7Y9pw8Qk-EuJ",
        "outputId": "98aeac20-f0fe-4251-d13d-1f9a5d9ed3c9"
      },
      "execution_count": 8,
      "outputs": [
        {
          "output_type": "execute_result",
          "data": {
            "text/plain": [
              "'Null Hypothesis (H₀): A statement that there is no effect or no difference (e.g., the means of two groups are equal).\\nAlternative Hypothesis (H₁): A statement that contradicts the null hypothesis (e.g., the means are different).\\nExamples:\\n\\nH₀: The new drug has no effect. H₁: The new drug has a positive effect.'"
            ],
            "application/vnd.google.colaboratory.intrinsic+json": {
              "type": "string"
            }
          },
          "metadata": {},
          "execution_count": 8
        }
      ]
    },
    {
      "cell_type": "code",
      "source": [
        "#Answer 7:\n",
        "\n",
        "\"\"\"\n",
        "1---State the hypotheses (null and alternative).\n",
        "2---Choose a significance level (e.g., 0.05).\n",
        "3---Collect and summarize the data.\n",
        "4---Perform the appropriate statistical test.\n",
        "5----Calculate the test statistic and p-value.\n",
        "6----Make a decision: If the p-value is less than the significance level, reject the null hypothesis.\"\"\""
      ],
      "metadata": {
        "colab": {
          "base_uri": "https://localhost:8080/",
          "height": 53
        },
        "id": "BjurPs5I-PvN",
        "outputId": "3fe8bea0-1ac4-4a41-e3f9-14fa71c91b51"
      },
      "execution_count": 10,
      "outputs": [
        {
          "output_type": "execute_result",
          "data": {
            "text/plain": [
              "'\\n1---State the hypotheses (null and alternative).\\n2---Choose a significance level (e.g., 0.05).\\n3---Collect and summarize the data.\\n4---Perform the appropriate statistical test.\\n5----Calculate the test statistic and p-value.\\n6----Make a decision: If the p-value is less than the significance level, reject the null hypothesis.'"
            ],
            "application/vnd.google.colaboratory.intrinsic+json": {
              "type": "string"
            }
          },
          "metadata": {},
          "execution_count": 10
        }
      ]
    },
    {
      "cell_type": "code",
      "source": [
        "#Answer 8:\n",
        "\"\"\" The p-value is the probability of obtaining a result at least as extreme as the one observed, assuming the null hypothesis is true.\n",
        " Its significance lies in determining whether to reject the null hypothesis.\n",
        " A small p-value (typically < 0.05) indicates strong evidence against the null hypothesis.\"\"\""
      ],
      "metadata": {
        "colab": {
          "base_uri": "https://localhost:8080/",
          "height": 53
        },
        "id": "9xbWSLqy-kSD",
        "outputId": "2bb5acd4-a181-4a4c-a386-0e6660bd0261"
      },
      "execution_count": 11,
      "outputs": [
        {
          "output_type": "execute_result",
          "data": {
            "text/plain": [
              "' The p-value is the probability of obtaining a result at least as extreme as the one observed, assuming the null hypothesis is true.\\n Its significance lies in determining whether to reject the null hypothesis.\\n A small p-value (typically < 0.05) indicates strong evidence against the null hypothesis.'"
            ],
            "application/vnd.google.colaboratory.intrinsic+json": {
              "type": "string"
            }
          },
          "metadata": {},
          "execution_count": 11
        }
      ]
    },
    {
      "cell_type": "code",
      "source": [
        "#answer:-9\n",
        "import numpy as np\n",
        "import matplotlib.pyplot as plt\n",
        "import scipy.stats as stats\n",
        "\n",
        "df = 10\n",
        "x = np.linspace(-5, 5, 100)\n",
        "plt.plot(x, stats.t.pdf(x, df))\n",
        "plt.title(\"Student's t-distribution (df=10)\")\n",
        "plt.xlabel('t')\n",
        "plt.ylabel('Probability Density')\n",
        "plt.show()\n"
      ],
      "metadata": {
        "colab": {
          "base_uri": "https://localhost:8080/",
          "height": 472
        },
        "id": "KTmjy-EA-0Ay",
        "outputId": "94c9aa99-880c-4b30-bf7b-f4dc6630c0fc"
      },
      "execution_count": 12,
      "outputs": [
        {
          "output_type": "display_data",
          "data": {
            "text/plain": [
              "<Figure size 640x480 with 1 Axes>"
            ],
            "image/png": "[encoded data removed]"
          },
          "metadata": {}
        }
      ]
    },
    {
      "cell_type": "code",
      "source": [
        "#answer:-10\n",
        "import scipy.stats as stats\n",
        "\n",
        "def two_sample_t_test(sample1, sample2):\n",
        "    t_stat, p_value = stats.ttest_ind(sample1, sample2)\n",
        "    return t_stat, p_value\n",
        "\n",
        "# Example:\n",
        "sample1 = [85, 90, 88, 92, 94]\n",
        "sample2 = [80, 83, 78, 85, 82]\n",
        "t_stat, p_value = two_sample_t_test(sample1, sample2)\n",
        "print(f\"T-Statistic: {t_stat}, P-Value: {p_value}\")\n"
      ],
      "metadata": {
        "colab": {
          "base_uri": "https://localhost:8080/"
        },
        "id": "4bS1r4el-4sW",
        "outputId": "5689e683-8d86-4dad-eb23-09c23a3a6461"
      },
      "execution_count": 13,
      "outputs": [
        {
          "output_type": "stream",
          "name": "stdout",
          "text": [
            "T-Statistic: 4.152231405043034, P-Value: 0.0031991529038087794\n"
          ]
        }
      ]
    },
    {
      "cell_type": "code",
      "source": [
        "#Answer 11:\n",
        "\"\"\"Student's t-distribution is a probability distribution used when the sample size is small and/or the population standard deviation is unknown.\n",
        "It's used in hypothesis testing, especially when the data follows a normal distribution but sample sizes are small (typically less than 30).\"\"\""
      ],
      "metadata": {
        "colab": {
          "base_uri": "https://localhost:8080/",
          "height": 53
        },
        "id": "xwsuSaCx-9q9",
        "outputId": "abe4c66c-7f8d-472a-b6dd-d197ad672aa7"
      },
      "execution_count": 15,
      "outputs": [
        {
          "output_type": "execute_result",
          "data": {
            "text/plain": [
              "\"Student's t-distribution is a probability distribution used when the sample size is small and/or the population standard deviation is unknown. \\nIt's used in hypothesis testing, especially when the data follows a normal distribution but sample sizes are small (typically less than 30).\""
            ],
            "application/vnd.google.colaboratory.intrinsic+json": {
              "type": "string"
            }
          },
          "metadata": {},
          "execution_count": 15
        }
      ]
    },
    {
      "cell_type": "code",
      "source": [
        "#answer:--12\n",
        "\"\"\" The t-statistic is a ratio of the difference between the sample mean and the population mean to the variability of the data.\n",
        "It's used to determine how far the sample mean deviates from the population mean in standard error units.\"\"\""
      ],
      "metadata": {
        "colab": {
          "base_uri": "https://localhost:8080/",
          "height": 53
        },
        "id": "446Ydx4t_INT",
        "outputId": "c647ae5d-6bbe-446c-aec2-2dc1aba0a08f"
      },
      "execution_count": 16,
      "outputs": [
        {
          "output_type": "execute_result",
          "data": {
            "text/plain": [
              "\" The t-statistic is a ratio of the difference between the sample mean and the population mean to the variability of the data. \\nIt's used to determine how far the sample mean deviates from the population mean in standard error units.\""
            ],
            "application/vnd.google.colaboratory.intrinsic+json": {
              "type": "string"
            }
          },
          "metadata": {},
          "execution_count": 16
        }
      ]
    },
    {
      "cell_type": "code",
      "source": [
        "#answer:-13\n",
        "import scipy.stats as stats\n",
        "\n",
        "mean = 500\n",
        "std_dev = 50\n",
        "sample_size = 50\n",
        "confidence_level = 0.95\n",
        "\n",
        "# Calculate the confidence interval\n",
        "z_value = stats.norm.ppf(0.975)  # for 95% confidence\n",
        "margin_of_error = z_value * (std_dev / (sample_size ** 0.5))\n",
        "ci_lower = mean - margin_of_error\n",
        "ci_upper = mean + margin_of_error\n",
        "(ci_lower, ci_upper)\n"
      ],
      "metadata": {
        "colab": {
          "base_uri": "https://localhost:8080/"
        },
        "id": "KZ_lu3kN_V5t",
        "outputId": "c9ba2ef4-b845-44ed-bb8a-49b330a378e1"
      },
      "execution_count": 17,
      "outputs": [
        {
          "output_type": "execute_result",
          "data": {
            "text/plain": [
              "(486.1409617565032, 513.8590382434968)"
            ]
          },
          "metadata": {},
          "execution_count": 17
        }
      ]
    },
    {
      "cell_type": "code",
      "source": [
        "#answer:-14\n",
        "import scipy.stats as stats\n",
        "\n",
        "mean_sample = 8\n",
        "mean_population = 10\n",
        "std_dev = 3\n",
        "sample_size = 100\n",
        "significance_level = 0.05\n",
        "\n",
        "# Calculate t-statistic\n",
        "t_statistic = (mean_sample - mean_population) / (std_dev / sample_size ** 0.5)\n",
        "\n",
        "# Calculate p-value\n",
        "p_value = stats.t.cdf(t_statistic, df=sample_size - 1)\n",
        "(p_value, t_statistic)\n"
      ],
      "metadata": {
        "colab": {
          "base_uri": "https://localhost:8080/"
        },
        "id": "MJXPX4ak_Z4s",
        "outputId": "e90a8b99-1673-47c6-ee7e-7ea690ab527d"
      },
      "execution_count": 18,
      "outputs": [
        {
          "output_type": "execute_result",
          "data": {
            "text/plain": [
              "(7.506144504985108e-10, -6.666666666666667)"
            ]
          },
          "metadata": {},
          "execution_count": 18
        }
      ]
    },
    {
      "cell_type": "code",
      "source": [
        "#answer:-15\n",
        "mean_population = 5\n",
        "mean_sample = 4.8\n",
        "std_dev = 0.5\n",
        "sample_size = 25\n",
        "\n",
        "# Calculate t-statistic\n",
        "t_statistic = (mean_sample - mean_population) / (std_dev / sample_size ** 0.5)\n",
        "t_statistic\n"
      ],
      "metadata": {
        "colab": {
          "base_uri": "https://localhost:8080/"
        },
        "id": "0EtK9sQQ_dyq",
        "outputId": "934fc33e-1503-48a7-e1ed-ce3f93f939a0"
      },
      "execution_count": 19,
      "outputs": [
        {
          "output_type": "execute_result",
          "data": {
            "text/plain": [
              "-2.0000000000000018"
            ]
          },
          "metadata": {},
          "execution_count": 19
        }
      ]
    },
    {
      "cell_type": "code",
      "source": [
        "#answer:-16\n",
        "import scipy.stats as stats\n",
        "\n",
        "n1 = 30\n",
        "mean1 = 80\n",
        "std_dev1 = 10\n",
        "\n",
        "n2 = 40\n",
        "mean2 = 75\n",
        "std_dev2 = 8\n",
        "\n",
        "# Conduct two-sample t-test\n",
        "t_stat, p_value = stats.ttest_ind_from_stats(mean1, std_dev1, n1, mean2, std_dev2, n2)\n",
        "(t_stat, p_value)\n"
      ],
      "metadata": {
        "colab": {
          "base_uri": "https://localhost:8080/"
        },
        "id": "QDz9-uuW_iHi",
        "outputId": "6048ccac-6286-409c-b479-79acc2be7887"
      },
      "execution_count": 20,
      "outputs": [
        {
          "output_type": "execute_result",
          "data": {
            "text/plain": [
              "(2.323967729699292, 0.023123013413725985)"
            ]
          },
          "metadata": {},
          "execution_count": 20
        }
      ]
    },
    {
      "cell_type": "code",
      "source": [
        "#answer:-17\n",
        "mean = 4\n",
        "std_dev = 1.5\n",
        "sample_size = 50\n",
        "confidence_level = 0.99\n",
        "\n",
        "# Calculate the confidence interval\n",
        "z_value = stats.norm.ppf(0.995)  # for 99% confidence\n",
        "margin_of_error = z_value * (std_dev / (sample_size ** 0.5))\n",
        "ci_lower = mean - margin_of_error\n",
        "ci_upper = mean + margin_of_error\n",
        "(ci_lower, ci_upper)\n"
      ],
      "metadata": {
        "colab": {
          "base_uri": "https://localhost:8080/"
        },
        "id": "zBZPiT-v_mNY",
        "outputId": "e839291f-f81d-4e2a-939e-d3cb9a1864c2"
      },
      "execution_count": 21,
      "outputs": [
        {
          "output_type": "execute_result",
          "data": {
            "text/plain": [
              "(3.4535840896844654, 4.546415910315535)"
            ]
          },
          "metadata": {},
          "execution_count": 21
        }
      ]
    },
    {
      "cell_type": "code",
      "source": [],
      "metadata": {
        "id": "pO8YBuMC_rRc"
      },
      "execution_count": null,
      "outputs": []
    }
  ]
}